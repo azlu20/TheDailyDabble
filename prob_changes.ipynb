{
  "nbformat": 4,
  "nbformat_minor": 0,
  "metadata": {
    "colab": {
      "provenance": []
    },
    "kernelspec": {
      "name": "python3",
      "display_name": "Python 3"
    },
    "language_info": {
      "name": "python"
    }
  },
  "cells": [
    {
      "cell_type": "code",
      "source": [
        "import numpy as np"
      ],
      "metadata": {
        "id": "cPPBawKOjSpa"
      },
      "execution_count": null,
      "outputs": []
    },
    {
      "cell_type": "code",
      "execution_count": null,
      "metadata": {
        "id": "36_BaoOSjAOK"
      },
      "outputs": [],
      "source": [
        "def compareProbs(initial, actions):\n",
        "  prob_matrix = []\n",
        "  new_arr = initial\n",
        "  for action in actions:\n",
        "    new_arr = np.copy(new_arr)\n",
        "    new_arr[action[0]] *= action[1]\n",
        "    prob_matrix.append(new_arr)\n",
        "\n",
        "  return prob_matrix"
      ]
    },
    {
      "cell_type": "code",
      "source": [
        "actions = [[0, 1.5], [2, 1.5]]\n",
        "initial = [10, 10, 10, 10]"
      ],
      "metadata": {
        "id": "xwfPq28ejwOm"
      },
      "execution_count": null,
      "outputs": []
    },
    {
      "cell_type": "code",
      "source": [
        "prob_matrix = compareProbs(initial, actions)\n",
        "print(prob_matrix)"
      ],
      "metadata": {
        "colab": {
          "base_uri": "https://localhost:8080/"
        },
        "id": "oYZcFCA-j4Q6",
        "outputId": "0e143674-9981-49f7-f297-1a00bd6af421"
      },
      "execution_count": null,
      "outputs": [
        {
          "output_type": "stream",
          "name": "stdout",
          "text": [
            "[array([15, 10, 10, 10]), array([15, 10, 15, 10])]\n"
          ]
        }
      ]
    },
    {
      "cell_type": "code",
      "source": [
        "for prob in prob_matrix:\n",
        "  print(np.divide(prob, np.sum(prob)))"
      ],
      "metadata": {
        "colab": {
          "base_uri": "https://localhost:8080/"
        },
        "id": "CRAMjuqWj-sf",
        "outputId": "2449c6a8-71a4-4b8d-8a7e-e7cc863d73b5"
      },
      "execution_count": null,
      "outputs": [
        {
          "output_type": "stream",
          "name": "stdout",
          "text": [
            "[0.33333333 0.22222222 0.22222222 0.22222222]\n",
            "[0.3 0.2 0.3 0.2]\n"
          ]
        }
      ]
    },
    {
      "cell_type": "markdown",
      "source": [
        "In this example, we see that modifiers such as 50% increased chance to show up likely does not mean that there is a 50% of their base chance. This likely corrobates with the data how you can have multiple objects with increased chance but given that each event is mutually exclusive, 50% increased chance must mean decreases for other events."
      ],
      "metadata": {
        "id": "9wb1_d-JkcHI"
      }
    },
    {
      "cell_type": "code",
      "source": [
        "def calculateTrueIncrease(initial, actions):\n",
        "  prob_matrix = []\n",
        "  new_arr = initial\n",
        "  for action in actions:\n",
        "    new_arr = np.copy(new_arr)\n",
        "    new_arr = new_arr.astype(float)\n",
        "    cur_sum = np.sum(new_arr)\n",
        "    action_prob = (new_arr[action[0]]/cur_sum) * action[1]\n",
        "    # print((new_arr[action[0]]/cur_sum), action_prob)\n",
        "    added_weight = (new_arr[action[0]]- action_prob*cur_sum)/(action_prob-1)\n",
        "    new_arr[action[0]] += added_weight\n",
        "    # print(new_arr[action[0]]/np.sum(new_arr))\n",
        "    prob_matrix.append(new_arr)\n",
        "  return prob_matrix"
      ],
      "metadata": {
        "id": "gpykw3pik3o3"
      },
      "execution_count": null,
      "outputs": []
    },
    {
      "cell_type": "code",
      "source": [
        "test = calculateTrueIncrease(initial, actions)\n",
        "test"
      ],
      "metadata": {
        "colab": {
          "base_uri": "https://localhost:8080/"
        },
        "id": "ZS6LEK0mnU11",
        "outputId": "cf271a0b-7c07-497f-a0d2-7a03e6be8199"
      },
      "execution_count": null,
      "outputs": [
        {
          "output_type": "execute_result",
          "data": {
            "text/plain": [
              "[array([18., 10., 10., 10.]),\n",
              " array([18.        , 10.        , 17.27272727, 10.        ])]"
            ]
          },
          "metadata": {},
          "execution_count": 63
        }
      ]
    },
    {
      "cell_type": "code",
      "source": [
        "for arr in test:\n",
        "  print(arr/np.sum(arr))"
      ],
      "metadata": {
        "colab": {
          "base_uri": "https://localhost:8080/"
        },
        "id": "uiPZ69lMnrdk",
        "outputId": "502a1a17-2c45-4b9d-dbfa-18e95b6e40d1"
      },
      "execution_count": null,
      "outputs": [
        {
          "output_type": "stream",
          "name": "stdout",
          "text": [
            "[0.375      0.20833333 0.20833333 0.20833333]\n",
            "[0.32565789 0.18092105 0.3125     0.18092105]\n"
          ]
        }
      ]
    },
    {
      "cell_type": "markdown",
      "source": [
        "Within this example, I show how calculations for increased probability chance between various steps could also lead problems. Within this case element 1 and element 3 both have increased probability of 50%, but since we changed element 1 first to have an increased probability and then element 3, this led to different balancing then expected."
      ],
      "metadata": {
        "id": "9O5vc41JrDni"
      }
    },
    {
      "cell_type": "code",
      "source": [
        "def trueProb(initial, actions):\n",
        "  lin_matrix = []\n",
        "  action_added_dict = {}\n",
        "  right_side = []\n",
        "  initial = np.array(initial)\n",
        "  initial = initial.astype(float)\n",
        "  for idx, action in enumerate(actions):\n",
        "    #left hand side\n",
        "    cur_action_weight = initial[action[0]]\n",
        "    desired_prob = (initial[action[0]]/np.sum(initial)) * action[1]\n",
        "    cur_lin = np.ones(len(actions))\n",
        "    cur_lin = np.multiply(cur_lin, -1 * desired_prob)\n",
        "    cur_lin[idx] = 1 + cur_lin[idx]\n",
        "    lin_matrix.append(cur_lin)\n",
        "\n",
        "    #right hand side\n",
        "    right_side.append(np.sum(initial) * desired_prob - initial[action[0]])\n",
        "  added_values = np.linalg.solve(lin_matrix, right_side)\n",
        "  for idx, action in enumerate(actions):\n",
        "    initial[action[0]] += added_values[idx]\n",
        "  \n",
        "  return initial"
      ],
      "metadata": {
        "id": "TLTrjL-4rZUM"
      },
      "execution_count": null,
      "outputs": []
    },
    {
      "cell_type": "code",
      "source": [
        "true_probs = trueProb(initial, actions)"
      ],
      "metadata": {
        "id": "Q_DN7Ol_vrDJ"
      },
      "execution_count": null,
      "outputs": []
    },
    {
      "cell_type": "code",
      "source": [
        "np.divide(true_probs, np.sum(true_probs))"
      ],
      "metadata": {
        "colab": {
          "base_uri": "https://localhost:8080/"
        },
        "id": "w2Z_5UbR5zHD",
        "outputId": "d9baa272-176e-4350-ff3d-e3497488ee04"
      },
      "execution_count": null,
      "outputs": [
        {
          "output_type": "execute_result",
          "data": {
            "text/plain": [
              "array([0.375, 0.125, 0.375, 0.125])"
            ]
          },
          "metadata": {},
          "execution_count": 89
        }
      ]
    },
    {
      "cell_type": "markdown",
      "source": [
        "The implementation on the top is how you would actually get the correct scaling. In order to do this, you have to set up linear equations to solve for each of the added values. Solving this linear system will give you what values to add for each changed variable, and results in the correct answer."
      ],
      "metadata": {
        "id": "C-qi6bWw56sB"
      }
    }
  ]
}